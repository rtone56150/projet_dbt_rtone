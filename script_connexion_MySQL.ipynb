{
 "cells": [
  {
   "cell_type": "code",
   "execution_count": 1,
   "id": "421c8c90",
   "metadata": {},
   "outputs": [],
   "source": [
    "import pandas as pd\n",
    "from sqlalchemy import create_engine\n",
    "from sqlalchemy_utils import database_exists, create_database\n",
    "\n",
    "# Paramètres de connexion.\n",
    "username = \"root\"\n",
    "password = \"i6HZ6#%Ro5rCzL\"\n",
    "host = \"localhost\"\n",
    "port = 3306\n",
    "database = \"my_dbt_db\"\n",
    "\n",
    "# On créée la connexion vers la base de données.\n",
    "DATABASE_URI = f'mysql+pymysql://{username}:{password}@{host}:{port}/{database}'\n",
    "engine = create_engine(DATABASE_URI)\n",
    "\n",
    "# On créée la base de données si elle n'existe pas.\n",
    "if not database_exists(engine.url):\n",
    "    create_database(engine.url)\n",
    "\n",
    "# On créée un DataFrame pour chaque fichier CSV de la base de données.\n",
    "liste_tables = [\"customers\", \"items\", \"orders\", \"products\", \"stores\", \"supplies\"]\n",
    "\n",
    "for table in liste_tables:\n",
    "   csv_url = f\"https://raw.githubusercontent.com/dsteddy/jaffle_shop_data/main/raw_{table}.csv\"\n",
    "   df = pd.read_csv(csv_url)\n",
    "   # On ajoute les informations de de dataframe à la table dans MySQL.\n",
    "   df.to_sql(f\"raw_{table}\", engine, if_exists=\"replace\", index=False)"
   ]
  }
 ],
 "metadata": {
  "kernelspec": {
   "display_name": "my-dbt-env",
   "language": "python",
   "name": "python3"
  },
  "language_info": {
   "codemirror_mode": {
    "name": "ipython",
    "version": 3
   },
   "file_extension": ".py",
   "mimetype": "text/x-python",
   "name": "python",
   "nbconvert_exporter": "python",
   "pygments_lexer": "ipython3",
   "version": "3.11.9"
  }
 },
 "nbformat": 4,
 "nbformat_minor": 5
}
